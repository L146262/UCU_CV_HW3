{
 "cells": [
  {
   "cell_type": "code",
   "execution_count": 1,
   "metadata": {},
   "outputs": [],
   "source": [
    "# Develop a python application that uses Kalman filter for smoothing the output of the mouse pointer. \n",
    "# Define process model, transition matrix and system noise. Write code as python application with comments.\n",
    "# Required submission: code of the system, recorded avi file of the system. Use OpenCV\n",
    "# VideoWriter class for storing the video"
   ]
  },
  {
   "cell_type": "code",
   "execution_count": 2,
   "metadata": {},
   "outputs": [],
   "source": [
    "from numpy.linalg import inv\n",
    "import numpy as np"
   ]
  },
  {
   "cell_type": "code",
   "execution_count": 3,
   "metadata": {},
   "outputs": [],
   "source": [
    "class KalmanFilter:\n",
    "    def __init__(self, x, P, F, R, Q, H, m):\n",
    "        self.x = x\n",
    "        self.P = P\n",
    "        self.F = F\n",
    "        self.R = R\n",
    "        self.Q = Q\n",
    "        self.H = H\n",
    "        self.m = m\n",
    "    \n",
    "    def predict(self):\n",
    "        self.x = np.dot(self.F, self.x)\n",
    "        self.P = np.dot(self.F, self.P).dot(self.F.T) + self.Q\n",
    "        return self.x\n",
    "\n",
    "    def correct(self, m):\n",
    "        S = self.H.dot(self.P).dot(self.H.T) + self.R\n",
    "        K = np.dot(self.P, self.H.T).dot(inv(S))\n",
    "        self.x += K.dot(m - self.H.dot(self.x))\n",
    "        self.P = self.P - np.dot(K, self.H).dot(self.P)\n"
   ]
  },
  {
   "cell_type": "code",
   "execution_count": 4,
   "metadata": {},
   "outputs": [],
   "source": [
    "# state = [0,0]\n",
    "# covariance_matrix = [[1,0], \n",
    "#                      [0,1]]\n",
    "\n",
    "# x = [x, y, v_x, v_y]\n",
    "x = np.array([0,0,0,0])\n",
    "m = np.array([0,0,0,0])\n",
    "\n",
    "# P covariance matrix\n",
    "P = np.array([[5, 0, 0, 0],\n",
    "             [0, 5, 0, 0],\n",
    "             [0, 0, 5, 0],\n",
    "             [0, 0, 0, 5]])\n",
    "# F - state_transition_matrix\n",
    "F = np.array([[1, 0, 0.2, 0],\n",
    "             [0, 1, 0, 0.2],\n",
    "             [0, 0, 1, 0  ],\n",
    "             [0, 0, 0, 1  ]])\n",
    "\n",
    "# R - noise matrix\n",
    "R = np.array([[0.1, 0, 0, 0],\n",
    "             [0, 0.1, 0, 0],\n",
    "             [0, 0, 0.1, 0],\n",
    "             [0, 0, 0, 0.1]])\n",
    "\n",
    "# Q noise co-variance matrix\n",
    "Q = np.array([[0, 0, 0, 0],\n",
    "             [0, 0, 0, 0],\n",
    "             [0, 0, 0.1, 0],\n",
    "             [0, 0, 0, 0.1]])\n",
    "\n",
    "# H measurement matrix\n",
    "H = np.array([[1, 0, 1, 0],\n",
    "             [0, 1, 0, 1],\n",
    "             [0, 0, 0, 0],\n",
    "             [0, 0, 0, 0]])"
   ]
  },
  {
   "cell_type": "code",
   "execution_count": 5,
   "metadata": {},
   "outputs": [],
   "source": [
    "from tkinter import *\n",
    "from collections import deque  \n",
    "\n",
    "kf = KalmanFilter(x, P, F, R, Q, H, m)\n",
    "\n",
    "window=Tk()\n",
    "canvas = Canvas(window,  width=900, height=600)\n",
    "canvas.pack()\n",
    "\n",
    "# canvas.create_oval(x-r,y-r,x+r,y+r)\n",
    "\n",
    "# window.title('Kalman Filter Demo')\n",
    "# window.geometry(\"900x600+300+200\")\n",
    "r = 5\n",
    "\n",
    "# mouth_path = deque([]) \n",
    "mouth_path = [(0,0)]\n",
    "lines = deque([]) \n",
    "def motion(event):\n",
    "    x, y = event.x, event.y\n",
    "    predicted_x, predicted_y = kf.predict()[:2]\n",
    "    prev_x, prev_y = mouth_path[-1]\n",
    "    mouth_path.append((predicted_x, predicted_y))\n",
    "    new_line = canvas.create_line(prev_x, prev_y, predicted_x, predicted_y, \n",
    "                                  fill='green', width=3)\n",
    "    lines.append(new_line)\n",
    "    if len(lines) > 200:\n",
    "        to_del = lines.popleft()\n",
    "        canvas.delete(to_del)\n",
    "    kf.correct(np.array([x, y, 0, 0]))\n",
    "    return\n",
    "\n",
    "window.bind('<Motion>', motion)\n",
    "window.mainloop()"
   ]
  },
  {
   "cell_type": "code",
   "execution_count": null,
   "metadata": {},
   "outputs": [],
   "source": []
  }
 ],
 "metadata": {
  "kernelspec": {
   "display_name": "Python 3",
   "language": "python",
   "name": "python3"
  },
  "language_info": {
   "codemirror_mode": {
    "name": "ipython",
    "version": 3
   },
   "file_extension": ".py",
   "mimetype": "text/x-python",
   "name": "python",
   "nbconvert_exporter": "python",
   "pygments_lexer": "ipython3",
   "version": "3.7.5"
  }
 },
 "nbformat": 4,
 "nbformat_minor": 2
}
